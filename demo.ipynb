{
 "cells": [
  {
   "cell_type": "code",
   "execution_count": 1,
   "metadata": {},
   "outputs": [
    {
     "name": "stdout",
     "output_type": "stream",
     "text": [
      "6& 6 & 7&8\\\\\n",
      "1& 2 & 2&1\\\\\n",
      "7& 5 & 6&8\\\\\n",
      "7& 4 & 5&3\\\\\n",
      "7& 5 & 5&7\\\\\n",
      "6& 6 & 6&6\\\\\n",
      "6& 5 & 6&7\\\\\n",
      "6& 6 & 6&6\\\\\n",
      "4& 4 & 5&6\\\\\n",
      "6& 7 & 7&8\\\\\n",
      "5& 5 & 6&7\\\\\n",
      "4& 6 & 6&7\\\\\n",
      "5& 6 & 5&8\\\\\n",
      "6& 8 & 7&8\\\\\n",
      "5& 7 & 6&7\\\\\n",
      "6& 7 & 6&7\\\\\n",
      "2& 6 & 4&6\\\\\n",
      "4& 2 & 2&2\\\\\n",
      "5& 6 & 5&6\\\\\n",
      "5& 6 & 7&8\\\\\n"
     ]
    }
   ],
   "source": [
    "import pandas as pd\n",
    "\n",
    "\n",
    "df_initial=pd.read_csv(\"./initial_instruction_evaluations.csv\",index_col=False)\n",
    "df_best=pd.read_csv(\"./GPT-4_best_instruction_evaluations.csv\",index_col=False)\n",
    "for i in range(20):\n",
    "    print(str(df_initial[\"human 1 eval\"][i])+\"& \"+str(df_initial[\"human 2 eval\"][i])+\" & \"+str(df_initial[\"human 3 eval\"][i])+\"&\"+str(int(df_initial[\"eval\"][i]))+\"\\\\\\\\\")\n",
    "    "
   ]
  },
  {
   "cell_type": "code",
   "execution_count": null,
   "metadata": {},
   "outputs": [],
   "source": []
  },
  {
   "cell_type": "code",
   "execution_count": 11,
   "metadata": {},
   "outputs": [],
   "source": [
    "\n",
    "df_initial[\"human 3 eval\"]=hum_3_in\n",
    "df_best[\"human 3 eval\"]=hum_3_fi\n",
    "\n",
    "df_initial.to_csv(\"./initial_instruction_evaluations.csv\",index=False)\n",
    "df_best.to_csv(\"./GPT-4_best_instruction_evaluations.csv\",index=False)"
   ]
  },
  {
   "cell_type": "code",
   "execution_count": 16,
   "metadata": {},
   "outputs": [
    {
     "name": "stdout",
     "output_type": "stream",
     "text": [
      "1.977371993328519\n",
      "1.5256146302392357\n",
      "1.499166435056495\n",
      "1.3955285736952863\n",
      "1.397318861248212\n",
      "1.2806248474865698\n",
      "1.9306734576307825\n",
      "6.1\n"
     ]
    }
   ],
   "source": [
    "import numpy as np\n",
    "\n",
    "print(np.std(df_initial[\"eval\"]))\n",
    "print(np.std(df_initial[\"human 1 eval\"]))\n",
    "print(np.std(df_initial[\"human 2 eval\"]))\n",
    "print(np.std(df_initial[\"human 3 eval\"]))\n",
    "print(np.std(df_best[\"eval\"]))\n",
    "print(np.std(df_best[\"human 1 eval\"]))\n",
    "print(np.std(df_best[\"human 2 eval\"]))\n",
    "print(np.std(df_best[\"human 3 eval\"]))"
   ]
  },
  {
   "cell_type": "code",
   "execution_count": 10,
   "metadata": {},
   "outputs": [
    {
     "name": "stdout",
     "output_type": "stream",
     "text": [
      "Cohen's Kappa Matrix (initial instruction):\n",
      "[[ 0.          0.07246377  0.28143713 -0.01796407]\n",
      " [ 0.07246377  0.          0.0228013   0.07284768]\n",
      " [ 0.28143713  0.0228013   0.          0.12751678]\n",
      " [-0.01796407  0.07284768  0.12751678  0.        ]]\n",
      "Average Cohen's Kappa (initial instruction): 0.06988782319780609\n",
      "\n",
      "\n",
      "Cohen's Kappa Matrix (GPT4 instruction):\n",
      "[[ 0.          0.02061856  0.07692308  0.11111111]\n",
      " [ 0.02061856  0.          0.01162791 -0.04938272]\n",
      " [ 0.07692308  0.01162791  0.          0.08256881]\n",
      " [ 0.11111111 -0.04938272  0.08256881  0.        ]]\n",
      "Average Cohen's Kappa (GPT4 instruction): 0.031683342875253734\n"
     ]
    }
   ],
   "source": [
    "from sklearn.metrics import cohen_kappa_score\n",
    "import numpy as np\n",
    "\n",
    "\n",
    "annotator_scores = [\n",
    "    df_initial[\"eval\"],\n",
    "    df_initial[\"human 1 eval\"],\n",
    "    df_initial[\"human 2 eval\"],\n",
    "    hum_3_in\n",
    "]\n",
    "kappa_matrix = np.zeros((4, 4))\n",
    "\n",
    "for i in range(4):\n",
    "    for j in range(i + 1, 4):\n",
    "        kappa = cohen_kappa_score([annotator_scores[i][q] for q in range(20)],\n",
    "                                  [annotator_scores[j][q] for q in range(20)])\n",
    "        kappa_matrix[i][j] = kappa\n",
    "        kappa_matrix[j][i] = kappa\n",
    "print(\"Cohen's Kappa Matrix (initial instruction):\")\n",
    "print(kappa_matrix)\n",
    "average_kappa = np.mean(kappa_matrix)\n",
    "print(f\"Average Cohen's Kappa (initial instruction): {average_kappa}\")\n",
    "\n",
    "\n",
    "annotator_scores = [\n",
    "    df_best[\"eval\"],\n",
    "    df_best[\"human 1 eval\"],\n",
    "    df_best[\"human 2 eval\"],\n",
    "    hum_3_fi\n",
    "]\n",
    "kappa_matrix = np.zeros((4, 4))\n",
    "\n",
    "for i in range(4):\n",
    "    for j in range(i + 1, 4):\n",
    "        kappa = cohen_kappa_score([int(annotator_scores[i][q]) for q in range(20)],\n",
    "                                  [int(annotator_scores[j][q]) for q in range(20)])\n",
    "        kappa_matrix[i][j] = kappa\n",
    "        kappa_matrix[j][i] = kappa\n",
    "print(\"\\n\\nCohen's Kappa Matrix (GPT4 instruction):\")\n",
    "print(kappa_matrix)\n",
    "average_kappa = np.mean(kappa_matrix)\n",
    "print(f\"Average Cohen's Kappa (GPT4 instruction): {average_kappa}\")"
   ]
  }
 ],
 "metadata": {
  "kernelspec": {
   "display_name": "NLG",
   "language": "python",
   "name": "python3"
  },
  "language_info": {
   "codemirror_mode": {
    "name": "ipython",
    "version": 3
   },
   "file_extension": ".py",
   "mimetype": "text/x-python",
   "name": "python",
   "nbconvert_exporter": "python",
   "pygments_lexer": "ipython3",
   "version": "3.10.10"
  },
  "orig_nbformat": 4
 },
 "nbformat": 4,
 "nbformat_minor": 2
}

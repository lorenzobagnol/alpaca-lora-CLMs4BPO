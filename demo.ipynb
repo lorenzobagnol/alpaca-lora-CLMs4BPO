{
 "cells": [
  {
   "cell_type": "code",
   "execution_count": null,
   "metadata": {},
   "outputs": [],
   "source": [
    "import generate"
   ]
  },
  {
   "cell_type": "code",
   "execution_count": null,
   "metadata": {},
   "outputs": [],
   "source": [
    "import pandas as pd\n",
    "\n",
    "df_one=pd.read_csv(\"one_step.csv\")\n",
    "df_two=pd.read_csv(\"two_step.csv\")\n",
    "for i in range(20):\n",
    "    print(str(df_one[\"input\"][i])+\"\\n\")\n",
    "    print(\"one step:\"+str(df_one[\"response\"][i]))\n",
    "    print(\"two step:\"+str(df_two[\"response\"][i])+\"\\n\\n\\n\")"
   ]
  },
  {
   "cell_type": "code",
   "execution_count": 1,
   "metadata": {},
   "outputs": [
    {
     "name": "stdout",
     "output_type": "stream",
     "text": [
      "Below is an instruction that describes a task, paired with an input that provides further context. Write a response that appropriately completes the request.\n",
      "\n",
      "### Instruction:\n",
      "{instruction}\n",
      "\n",
      "### Input:\n",
      "{input}\n",
      "\n",
      "### Response:\n",
      "\n"
     ]
    }
   ],
   "source": [
    "prompt_input =\"Below is an instruction that describes a task, paired with an input that provides further context. Write a response that appropriately completes the request.\\n\\n### Instruction:\\n{instruction}\\n\\n### Input:\\n{input}\\n\\n### Response:\\n\"\n",
    "print(prompt_input)"
   ]
  },
  {
   "cell_type": "code",
   "execution_count": 1,
   "metadata": {},
   "outputs": [
    {
     "name": "stderr",
     "output_type": "stream",
     "text": [
      "100%|██████████| 20/20 [00:00<00:00, 191520.73it/s]\n"
     ]
    }
   ],
   "source": [
    "import openai\n",
    "import os\n",
    "import credentials\n",
    "os.environ[\"OPENAI_API_KEY\"] = credentials.api_key\n",
    "openai.api_key = os.getenv(\"OPENAI_API_KEY\")\n",
    "from utils.prompter import Prompter\n",
    "import pandas as pd\n",
    "from tqdm import tqdm\n",
    "\n",
    "cables=pd.read_csv(\"../amazon-dataset/cables.csv\")\n",
    "amps=pd.read_csv(\"../amazon-dataset/home_audio.csv\")\n",
    "teles=pd.read_csv(\"../amazon-dataset/televisions.csv\")\n",
    "cables = cables.sample(frac=1, random_state=10).reset_index(drop=True)[:20]\n",
    "amps = amps.sample(frac=1, random_state=10).reset_index(drop=True)[:20]\n",
    "teles = teles.sample(frac=1, random_state=10).reset_index(drop=True)[:20]\n",
    "\n",
    "eval_prompt=\"\"\"\n",
    "[Instruction]\n",
    "Please act as an impartial judge and evaluate the quality of the response provided by an AI assistant to the user question displayed below. Your evaluation should consider factors such as the helpfulness, relevance, accuracy, depth, creativity, and level of detail of the response. Begin your evaluation by providing a short explanation. Be as objective as possible. After providing your explanation, you must rate the response on a scale of 1 to 10 by strictly following this format: \\\"[[rating]]\\\", for example: \\\"Rating: [[5]]\\\".\n",
    "\n",
    "[Question]\n",
    "I'll give you as \"input\" a sequence of products with their functionalities. Each product is in the form:\n",
    "\n",
    "<product> {product name}\n",
    "<features> {list of features of the product}\n",
    "\n",
    "You have to write a description of a luxury ship room containing these products. Do not copy the features, try to focus on the user experience instead of the technical details.\n",
    "Write it with an engaging tone for the ship website.\n",
    "\n",
    "\n",
    "\"\"\"\n",
    "\n",
    "prod_list=[prod for prod in amps[\"title\"]]+[prod for prod in teles[\"title\"]]+[prod for prod in cables[\"title\"]]\n",
    "spec_list=[feat for feat in amps[\"feature\"]]+[feat for feat in teles[\"feature\"]]+[feat for feat in cables[\"feature\"]]\n",
    "input=list()\n",
    "assert len(prod_list)==len(spec_list)\n",
    "for i in tqdm(range(20)):\n",
    "    input.append(\"<product> \"+prod_list[i]+\"\\n\"+\"<features> \"+spec_list[i]+\"\\n\\n\"+\"<product> \"+prod_list[20+i]+\"\\n\"+\"<features> \"+spec_list[20+i]+\"\\n\\n\"+\"<product> \"+prod_list[40+i]+\"\\n\"+\"<functionalities> \"+spec_list[40+i]+\"\\n\\n\")\n"
   ]
  },
  {
   "cell_type": "code",
   "execution_count": null,
   "metadata": {},
   "outputs": [],
   "source": [
    "one_step_response=pd.read_csv(\"./one_step.csv\")[\"response\"]\n",
    "two_step_response=pd.read_csv(\"./two_step.csv\")[\"response\"]\n",
    "one_val_list=list()\n",
    "two_val_list=list()\n",
    "for i in tqdm(range(20)):\n",
    "    one_prompt=eval_prompt+\"Input:\\n\"+input[i]+\"[The Start of Assistant's Answer]\\n\"+one_step_response[i]+\"\\n[The End of Assistant's Answer]\"\n",
    "    one_val = openai.ChatCompletion.create(\n",
    "        model=\"gpt-4\",\n",
    "        messages= [ {\"role\": \"system\",\"content\": \"You are a helpful assistant.\"},\n",
    "                    {\"role\": \"user\",\"content\": one_prompt}])\n",
    "    one_val_list.append(int(one_val[\"choices\"][0][\"message\"][\"content\"].split(\"[[\")[1].split(\"]]\")[0]))\n",
    "    two_prompt=eval_prompt+\"Input:\\n\"+input[i]+\"[The Start of Assistant's Answer]\\n\"+two_step_response[i]+\"\\n[The End of Assistant's Answer]\"\n",
    "    two_val = openai.ChatCompletion.create(\n",
    "        model=\"gpt-4\",\n",
    "        messages= [ {\"role\": \"system\",\"content\": \"You are a helpful assistant.\"},\n",
    "                    {\"role\": \"user\",\"content\": two_prompt}])\n",
    "    two_val_list.append(int(two_val[\"choices\"][0][\"message\"][\"content\"].split(\"[[\")[1].split(\"]]\")[0]))"
   ]
  },
  {
   "cell_type": "code",
   "execution_count": 53,
   "metadata": {},
   "outputs": [],
   "source": [
    "one_df=pd.read_csv(\"./two_step.csv\")\n",
    "one_df[\"eval\"]=one_val_list\n",
    "one_df.to_csv(\"two_step.csv\",index=False)"
   ]
  },
  {
   "cell_type": "code",
   "execution_count": 54,
   "metadata": {},
   "outputs": [],
   "source": [
    "import numpy as np\n",
    "\n",
    "df_one=pd.read_csv(\"./one_step.csv\")\n",
    "df_two=pd.read_csv(\"./two_step.csv\")\n",
    "print(np.mean(df_one[\"eval\"]))\n",
    "print(np.mean(df_two[\"eval\"]))"
   ]
  },
  {
   "cell_type": "code",
   "execution_count": 10,
   "metadata": {},
   "outputs": [],
   "source": [
    "prompt_gen=\"\"\"generate a better prompt for my model. Output only the new generated prompt. Don't forget to describe the structure of the input\n",
    "\n",
    "I'll give you as \"input\" a sequence of products with their functionalities. Each product is in the form:\n",
    "\n",
    "<product> {product name}\n",
    "<features> {list of features of the product}\n",
    "\n",
    "You have to write a description of a luxury ship room containing these products. Do not copy the features, try to focus on the user experience instead of the technical details.\n",
    "Write it with an engaging tone for the ship website.\n",
    "\n",
    "\"\"\"\n",
    "\n",
    "response = openai.ChatCompletion.create(\n",
    "        model=\"gpt-4\",\n",
    "        messages= [ {\"role\": \"system\",\"content\": \"You are a helpful assistant.\"},\n",
    "                    {\"role\": \"user\",\"content\": prompt_gen}])"
   ]
  },
  {
   "cell_type": "code",
   "execution_count": 1,
   "metadata": {},
   "outputs": [
    {
     "data": {
      "text/html": [
       "<div>\n",
       "<style scoped>\n",
       "    .dataframe tbody tr th:only-of-type {\n",
       "        vertical-align: middle;\n",
       "    }\n",
       "\n",
       "    .dataframe tbody tr th {\n",
       "        vertical-align: top;\n",
       "    }\n",
       "\n",
       "    .dataframe thead th {\n",
       "        text-align: right;\n",
       "    }\n",
       "</style>\n",
       "<table border=\"1\" class=\"dataframe\">\n",
       "  <thead>\n",
       "    <tr style=\"text-align: right;\">\n",
       "      <th></th>\n",
       "      <th>prompt</th>\n",
       "      <th>results</th>\n",
       "      <th>mean_value</th>\n",
       "    </tr>\n",
       "  </thead>\n",
       "  <tbody>\n",
       "    <tr>\n",
       "      <th>0</th>\n",
       "      <td>\\nI'll give you as \"input\" a sequence of produ...</td>\n",
       "      <td>[7.0, 5.0, 8.0, 4.0, 4.0, 7.0, 3.0, 8.0, 4.0, ...</td>\n",
       "      <td>6.050</td>\n",
       "    </tr>\n",
       "    <tr>\n",
       "      <th>1</th>\n",
       "      <td>\"As an AI model, your task is to transform a s...</td>\n",
       "      <td>[2.0, 9.0, 3.0, 4.0, 4.5, 3.0, 9.0, 7.0, 1.0, ...</td>\n",
       "      <td>4.875</td>\n",
       "    </tr>\n",
       "    <tr>\n",
       "      <th>2</th>\n",
       "      <td>\"\\nIn the 'input', you will receive a series o...</td>\n",
       "      <td>[8.0, 8.5, 6.0, 7.0, 8.5, 4.0, 9.0, 4.0, 4.0, ...</td>\n",
       "      <td>6.575</td>\n",
       "    </tr>\n",
       "    <tr>\n",
       "      <th>3</th>\n",
       "      <td>\"In the 'input', you will encounter a selectio...</td>\n",
       "      <td>[8.5, 1.0, 7.0, 8.0, 6.8, 8.5, 3.0, 7.0, 7.0, ...</td>\n",
       "      <td>6.165</td>\n",
       "    </tr>\n",
       "    <tr>\n",
       "      <th>4</th>\n",
       "      <td>\"In the 'input', you will receive a collection...</td>\n",
       "      <td>[9.8, 8.7, 6.5, 9.0, 2.0, 4.0, 8.0, 5.0, 4.0, ...</td>\n",
       "      <td>6.400</td>\n",
       "    </tr>\n",
       "    <tr>\n",
       "      <th>5</th>\n",
       "      <td>\"In the 'input', you are given a series of ups...</td>\n",
       "      <td>[6.0, 7.0, 9.0, 4.0, 8.0, 7.0, 6.5, 7.0, 8.0, ...</td>\n",
       "      <td>6.360</td>\n",
       "    </tr>\n",
       "    <tr>\n",
       "      <th>6</th>\n",
       "      <td>\"In the 'input', you will receive a diverse co...</td>\n",
       "      <td>[2.0, 10.0, 7.0, 5.0, 3.0, 4.0, 3.0, 6.0, 5.0,...</td>\n",
       "      <td>5.175</td>\n",
       "    </tr>\n",
       "    <tr>\n",
       "      <th>7</th>\n",
       "      <td>\"In the 'input', you are given a range of exqu...</td>\n",
       "      <td>[8.0, 5.0, 8.0, 7.0, 3.0, 8.0, 9.0, 7.0, 9.0, ...</td>\n",
       "      <td>6.250</td>\n",
       "    </tr>\n",
       "    <tr>\n",
       "      <th>8</th>\n",
       "      <td>\"In the 'input', you are given details about v...</td>\n",
       "      <td>[3.0, 6.0, 7.5, 8.0, 9.0, 8.0, 7.0, 6.0, 6.0, ...</td>\n",
       "      <td>6.600</td>\n",
       "    </tr>\n",
       "    <tr>\n",
       "      <th>9</th>\n",
       "      <td>\"In the input, you will receive detailed infor...</td>\n",
       "      <td>[3.0, 1.0, 4.0, 4.0, 3.0, 4.0, 5.0, 9.7, 5.0, ...</td>\n",
       "      <td>4.410</td>\n",
       "    </tr>\n",
       "    <tr>\n",
       "      <th>10</th>\n",
       "      <td>\"In the 'input', you will be provided with inf...</td>\n",
       "      <td>[4.0, 8.0, 7.0, 8.0, 8.0, 1.0, 4.0, 4.0, 2.0, ...</td>\n",
       "      <td>5.875</td>\n",
       "    </tr>\n",
       "  </tbody>\n",
       "</table>\n",
       "</div>"
      ],
      "text/plain": [
       "                                               prompt   \n",
       "0   \\nI'll give you as \"input\" a sequence of produ...  \\\n",
       "1   \"As an AI model, your task is to transform a s...   \n",
       "2   \"\\nIn the 'input', you will receive a series o...   \n",
       "3   \"In the 'input', you will encounter a selectio...   \n",
       "4   \"In the 'input', you will receive a collection...   \n",
       "5   \"In the 'input', you are given a series of ups...   \n",
       "6   \"In the 'input', you will receive a diverse co...   \n",
       "7   \"In the 'input', you are given a range of exqu...   \n",
       "8   \"In the 'input', you are given details about v...   \n",
       "9   \"In the input, you will receive detailed infor...   \n",
       "10  \"In the 'input', you will be provided with inf...   \n",
       "\n",
       "                                              results  mean_value  \n",
       "0   [7.0, 5.0, 8.0, 4.0, 4.0, 7.0, 3.0, 8.0, 4.0, ...       6.050  \n",
       "1   [2.0, 9.0, 3.0, 4.0, 4.5, 3.0, 9.0, 7.0, 1.0, ...       4.875  \n",
       "2   [8.0, 8.5, 6.0, 7.0, 8.5, 4.0, 9.0, 4.0, 4.0, ...       6.575  \n",
       "3   [8.5, 1.0, 7.0, 8.0, 6.8, 8.5, 3.0, 7.0, 7.0, ...       6.165  \n",
       "4   [9.8, 8.7, 6.5, 9.0, 2.0, 4.0, 8.0, 5.0, 4.0, ...       6.400  \n",
       "5   [6.0, 7.0, 9.0, 4.0, 8.0, 7.0, 6.5, 7.0, 8.0, ...       6.360  \n",
       "6   [2.0, 10.0, 7.0, 5.0, 3.0, 4.0, 3.0, 6.0, 5.0,...       5.175  \n",
       "7   [8.0, 5.0, 8.0, 7.0, 3.0, 8.0, 9.0, 7.0, 9.0, ...       6.250  \n",
       "8   [3.0, 6.0, 7.5, 8.0, 9.0, 8.0, 7.0, 6.0, 6.0, ...       6.600  \n",
       "9   [3.0, 1.0, 4.0, 4.0, 3.0, 4.0, 5.0, 9.7, 5.0, ...       4.410  \n",
       "10  [4.0, 8.0, 7.0, 8.0, 8.0, 1.0, 4.0, 4.0, 2.0, ...       5.875  "
      ]
     },
     "execution_count": 1,
     "metadata": {},
     "output_type": "execute_result"
    }
   ],
   "source": [
    "import pandas as pd\n",
    "\n",
    "df=pd.read_csv(\"prompt_evaluations.csv\",index_col=False)\n",
    "#df=df.sort_values(\"mean_value\")\n",
    "df"
   ]
  }
 ],
 "metadata": {
  "kernelspec": {
   "display_name": "NLG",
   "language": "python",
   "name": "python3"
  },
  "language_info": {
   "codemirror_mode": {
    "name": "ipython",
    "version": 3
   },
   "file_extension": ".py",
   "mimetype": "text/x-python",
   "name": "python",
   "nbconvert_exporter": "python",
   "pygments_lexer": "ipython3",
   "version": "3.10.10"
  },
  "orig_nbformat": 4
 },
 "nbformat": 4,
 "nbformat_minor": 2
}

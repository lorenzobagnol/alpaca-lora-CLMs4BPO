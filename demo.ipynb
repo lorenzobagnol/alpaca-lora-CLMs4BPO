{
 "cells": [
  {
   "cell_type": "markdown",
   "metadata": {},
   "source": [
    "## CLMs4BPO\n",
    "Questo progetto ha lo scopo di ottimizzare diversi processi aziendali, tra cui il copywriting per il commercio elettronico basato su specifiche tecniche, la generazione automatica di descrizioni di prodotti per la gestione dell'inventario e la generazione di istruzioni intelligenti di carico-scarico del magazzino a partire dai dati operativi. \n",
    "\n",
    "Questo lavoro funge da caso di studio all'interno di uno scenario produttivo reale, dimostrando le applicazioni pratiche del nostro approccio: questo dimostratore genera una descrizione di una cabina di una imbarcazione di lusso a partire dai prodotti tecnologici presenti a bordo e dalle loro specifiche tecninche.\n",
    "\n",
    "I dati di input devono seguire il seguente schema:"
   ]
  },
  {
   "cell_type": "code",
   "execution_count": 1,
   "metadata": {},
   "outputs": [],
   "source": [
    "example_input=\"\"\"\n",
    "<product> Yamaha HTR-5660 6-Channel Digital Home Theater Receiver (Discontinued by Manufacturer)\n",
    "<features> ['6.1-channel digital receiver with 85 watts per channel (x 6)', 'Decoding for DTS-ES Discrete 6.1, DTS-ES Matrix 6.1, DTS Neo:6, Dolby Digital EX, and Dolby Pro Logic II', '24 distinct sound programs with 44 variations meet every sound need', '4 optical and 1 coaxial digital inputs; 5 S-Video inputs and 2 outputs; 2 component-video inputs; set of front-panel A/V inputs', 'Measures 17-1/8 x 6-7/16 x 15-3/8 inches (W x H x D) and weighs 25 pounds']\n",
    "\n",
    "<product> Sony KV-20FV12 20&quot; Trinitron Wega Flat-Screen TV\n",
    "<features> ['20-inch TV with Trinitron flat picture tube; 22.25 x 18.38 x 19.88 inches (W x H x D)', '3-line digital comb filter improves image resolution and clarity', 'SpeedSurf rapid channel surfing, 5 favorite channel presets, and sleep timer', '2 sets of composite inputs (1 front and 1 rear), S-video input, audio output, and headphone jack', '10-watt DAC speaker system (5 watts x 2) with Matrix Surround and MTS decoder']\n",
    "\n",
    "<product> GE AV93203 Cable Extension Adapter\n",
    "<features> ['CableExtensionAdapters']\n",
    "\n",
    "\"\"\""
   ]
  },
  {
   "cell_type": "markdown",
   "metadata": {},
   "source": [
    "È inoltre possibile inserire i prodotti partendo da un file csv come in questo esempio"
   ]
  },
  {
   "cell_type": "code",
   "execution_count": 4,
   "metadata": {},
   "outputs": [
    {
     "name": "stdout",
     "output_type": "stream",
     "text": [
      "<product> KLH ASW10-120 Powered Subwoofer (Discontinued by Manufacturer)\n",
      "<features> ['120-watt amplifier', 'Front-firing, ported design', '10-inch dynamic-fiber driver', '30 to 200 Hz frequency response', 'Phase and crossover frequency controls']\n",
      "\n",
      "<product> Toshiba 20AF43 20&quot; Flat Screen TV\n",
      "<features> ['20-inch CRT set with standard 4:3 aspect ratio and high-contrast flat tube; 23.25 x 17.5 x 19 inches (W x H x D)', '3-line digital comb filter and Vertical Contour Correction enhance color clarity', 'ColorStream component-video input offers optimal connection from a compatible DVD player or satellite receiver', 'Front AV input accommodates camcorder or gaming console', 'Stereo reception with SAP, 5 watts per channel, and BBE High-Definition Sound (improves speech intelligibility)']\n",
      "\n",
      "<product> Acoustic Research AP1650 Speaker Cable, 16 AWG, OFC, (50 feet) (Discontinued by Manufacturer)\n",
      "<features> [\"50'\"]\n",
      "\n",
      "\n"
     ]
    }
   ],
   "source": [
    "import pandas as pd\n",
    "products=pd.read_csv(\"products/products.csv\")\n",
    "example_input=\"\"\n",
    "for i in range(len(products)):\n",
    "    example_input=example_input+str(\"<product> \"+str(products[\"title\"][i])+\"\\n<features> \"+str(products[\"feature\"][i])+\"\\n\\n\")\n",
    "print(example_input)"
   ]
  },
  {
   "cell_type": "markdown",
   "metadata": {},
   "source": [
    "Oppure è possibile inserirli manualmente da input"
   ]
  },
  {
   "cell_type": "code",
   "execution_count": null,
   "metadata": {},
   "outputs": [],
   "source": [
    "example_input=\"\"\n",
    "for i in range(3):\n",
    "    example_input=example_input+str(\"<product> \"+input(\"inserire il nome del prodotto numero \"+str(i+1)))\n",
    "    example_input=example_input+str(\"\\n<features> \"+input(\"inserire le specifiche tecniche del prodotto numero \"+str(i+1))+\"\\n\\n\")\n",
    "print(example_input)"
   ]
  },
  {
   "cell_type": "markdown",
   "metadata": {},
   "source": [
    "Nella cella seguente si importa il file generate.py. Tramite questo script python il modello linguistico Alpaca viene caricato sulla GPU (se presente) o sulla CPU. Per questo passaggio è necessario di disporre di una RAM di almeno 14 Gb. "
   ]
  },
  {
   "cell_type": "code",
   "execution_count": 2,
   "metadata": {},
   "outputs": [
    {
     "name": "stderr",
     "output_type": "stream",
     "text": [
      "/home/bagnol/miniconda3/envs/NLG/lib/python3.10/site-packages/tqdm/auto.py:21: TqdmWarning: IProgress not found. Please update jupyter and ipywidgets. See https://ipywidgets.readthedocs.io/en/stable/user_install.html\n",
      "  from .autonotebook import tqdm as notebook_tqdm\n",
      "You are using the default legacy behaviour of the <class 'transformers.models.llama.tokenization_llama.LlamaTokenizer'>. If you see this, DO NOT PANIC! This is expected, and simply means that the `legacy` (previous) behavior will be used so nothing changes for you. If you want to use the new behaviour, set `legacy=False`. This should only be set if you understand what it means, and thouroughly read the reason why this was added as explained in https://github.com/huggingface/transformers/pull/24565\n",
      "Loading checkpoint shards: 100%|██████████| 2/2 [00:04<00:00,  2.02s/it]\n"
     ]
    }
   ],
   "source": [
    "from generate import generate_one_step"
   ]
  },
  {
   "cell_type": "markdown",
   "metadata": {},
   "source": [
    "Caricato il modello in memoria, la funzione generate_one_step() usa il modello per generare una descrizione a partire dai prodotti tecnologici presi come input."
   ]
  },
  {
   "cell_type": "code",
   "execution_count": 3,
   "metadata": {},
   "outputs": [
    {
     "name": "stdout",
     "output_type": "stream",
     "text": [
      "This luxurious cruise liner has been designed to provide guests with a truly unforgettable experience. To achieve this goal, the ship boasts a variety of amenities including state-of-the-art technology, exquisite dining options, and spas offering relaxing treatments. However, what really sets this vessel apart is its onboard entertainment system. With a wide range of audio equipment available, guests can enjoy music in almost any setting - whether it be in the comfort of their own stateroom or while taking in the breathtaking views of the ocean. To make sure that no detail was overlooked, the ship's designers carefully selected only the best audio components. One such example is the KLH ASW10-120 Powered Subwoofer which produces deep bass notes that add depth and dimension to any soundtrack. Additionally, the Toshiba 20AF43 20\" Flat Screen TV ensures crystal clear visuals so that viewers won't miss out on even the smallest details. Finally, the Acoustic Research AP1650 Speaker Cable allows for easy installation and connectivity between devices. All of these elements come together to create a one-of-a-kind atmosphere that makes the entire journey feel like a dream. From the moment you step aboard, you'll know that you have arrived somewhere special.\n"
     ]
    }
   ],
   "source": [
    "response=generate_one_step(example_input)\n",
    "print(response)"
   ]
  }
 ],
 "metadata": {
  "kernelspec": {
   "display_name": "NLG",
   "language": "python",
   "name": "python3"
  },
  "language_info": {
   "codemirror_mode": {
    "name": "ipython",
    "version": 3
   },
   "file_extension": ".py",
   "mimetype": "text/x-python",
   "name": "python",
   "nbconvert_exporter": "python",
   "pygments_lexer": "ipython3",
   "version": "3.10.10"
  },
  "orig_nbformat": 4
 },
 "nbformat": 4,
 "nbformat_minor": 2
}

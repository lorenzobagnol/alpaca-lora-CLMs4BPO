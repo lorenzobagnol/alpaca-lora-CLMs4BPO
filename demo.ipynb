{
 "cells": [
  {
   "cell_type": "code",
   "execution_count": null,
   "metadata": {},
   "outputs": [],
   "source": [
    "import generate\n",
    "from generate import generate_one_step\n",
    "\n",
    "\n",
    "example_input=\"\"\"\n",
    "<product> Yamaha HTR-5660 6-Channel Digital Home Theater Receiver (Discontinued by Manufacturer)\n",
    "<features> ['6.1-channel digital receiver with 85 watts per channel (x 6)', 'Decoding for DTS-ES Discrete 6.1, DTS-ES Matrix 6.1, DTS Neo:6, Dolby Digital EX, and Dolby Pro Logic II', '24 distinct sound programs with 44 variations meet every sound need', '4 optical and 1 coaxial digital inputs; 5 S-Video inputs and 2 outputs; 2 component-video inputs; set of front-panel A/V inputs', 'Measures 17-1/8 x 6-7/16 x 15-3/8 inches (W x H x D) and weighs 25 pounds']\n",
    "\n",
    "<product> Sony KV-20FV12 20&quot; Trinitron Wega Flat-Screen TV\n",
    "<features> ['20-inch TV with Trinitron flat picture tube; 22.25 x 18.38 x 19.88 inches (W x H x D)', '3-line digital comb filter improves image resolution and clarity', 'SpeedSurf rapid channel surfing, 5 favorite channel presets, and sleep timer', '2 sets of composite inputs (1 front and 1 rear), S-video input, audio output, and headphone jack', '10-watt DAC speaker system (5 watts x 2) with Matrix Surround and MTS decoder']\n",
    "\n",
    "<product> GE AV93203 Cable Extension Adapter\n",
    "<features> ['CableExtensionAdapters']\n",
    "\n",
    "\"\"\"\n",
    "\n",
    "response=generate_one_step(example_input)"
   ]
  }
 ],
 "metadata": {
  "kernelspec": {
   "display_name": "NLG",
   "language": "python",
   "name": "python3"
  },
  "language_info": {
   "codemirror_mode": {
    "name": "ipython",
    "version": 3
   },
   "file_extension": ".py",
   "mimetype": "text/x-python",
   "name": "python",
   "nbconvert_exporter": "python",
   "pygments_lexer": "ipython3",
   "version": "3.10.10"
  },
  "orig_nbformat": 4
 },
 "nbformat": 4,
 "nbformat_minor": 2
}

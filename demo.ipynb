{
 "cells": [
  {
   "cell_type": "code",
   "execution_count": 1,
   "metadata": {},
   "outputs": [
    {
     "name": "stdout",
     "output_type": "stream",
     "text": [
      "8& 6 & 0 &8\\\\\n",
      "6& 7 & 0 &8\\\\\n",
      "4& 9 & 0 &8\\\\\n",
      "6& 6 & 0 &5\\\\\n",
      "5& 7 & 0 &8\\\\\n",
      "9& 7 & 0 &8\\\\\n",
      "4& 5 & 0 &7\\\\\n",
      "6& 6 & 0 &7\\\\\n",
      "6& 3 & 0 &7\\\\\n",
      "6& 6 & 0 &7\\\\\n",
      "6& 8 & 0 &8\\\\\n",
      "6& 7 & 0 &7\\\\\n",
      "4& 8 & 0 &8\\\\\n",
      "5& 9 & 0 &8\\\\\n",
      "5& 8 & 0 &7\\\\\n",
      "6& 7 & 0 &7\\\\\n",
      "4& 2 & 0 &2\\\\\n",
      "6& 3 & 0 &7\\\\\n",
      "6& 4 & 0 &8\\\\\n",
      "4& 5 & 0 &7\\\\\n"
     ]
    }
   ],
   "source": [
    "import pandas as pd\n",
    "\n",
    "\n",
    "df_initial=pd.read_csv(\"one_step.csv\",index_col=False)\n",
    "df_best=pd.read_csv(\"best_gpt_prompt_generations.csv\",index_col=False)\n",
    "for i in range(20):\n",
    "    print(str(df_best[\"human 1 eval\"][i])+\"& \"+str(df_best[\"human 2 eval\"][i])+\" & 0 &\"+str(int(df_best[\"eval\"][i]))+\"\\\\\\\\\")\n",
    "    "
   ]
  },
  {
   "cell_type": "code",
   "execution_count": 2,
   "metadata": {},
   "outputs": [],
   "source": [
    "lista=[6,\t6,\t2,\t7,\t5,\t9,\t4,\t6,\t5,\t7,\t6,\t7,\t5,\t5,\t6,\t6,\t4,\t3,\t7,\t6,\t5,\t8,\t6,\t7,\t6,\t8,\t8,\t9,\t7,\t8,\t7,\t7,\t6,\t2,\t2,\t3,\t6,\t4,\t6,\t5]\n",
    "\n",
    "df_initial[\"human 2 eval\"]=[el for i, el in enumerate(lista) if i%2==0]\n",
    "df_best[\"human 2 eval\"]=[el for i, el in enumerate(lista) if i%2==1]\n",
    "\n",
    "df_initial.to_csv(\"one_step.csv\",index=False)\n",
    "df_best.to_csv(\"best_gpt_prompt_generations.csv\",index=False)"
   ]
  },
  {
   "cell_type": "code",
   "execution_count": 2,
   "metadata": {},
   "outputs": [
    {
     "name": "stdout",
     "output_type": "stream",
     "text": [
      "6.3\n",
      "7.15\n",
      "5.15\n",
      "5.6\n",
      "5.45\n",
      "6.15\n"
     ]
    }
   ],
   "source": [
    "import numpy as np\n",
    "\n",
    "\n",
    "print(np.mean(df_initial[\"eval\"]))\n",
    "print(np.mean(df_best[\"eval\"]))\n",
    "print(np.mean(df_initial[\"human 1 eval\"]))\n",
    "print(np.mean(df_best[\"human 1 eval\"]))\n",
    "print(np.mean(df_initial[\"human 2 eval\"]))\n",
    "print(np.mean(df_best[\"human 2 eval\"]))"
   ]
  },
  {
   "cell_type": "code",
   "execution_count": 10,
   "metadata": {},
   "outputs": [
    {
     "name": "stdout",
     "output_type": "stream",
     "text": [
      "Cohen's Kappa Matrix (initial instruction):\n",
      "[[0.         0.07246377 0.28143713]\n",
      " [0.07246377 0.         0.0228013 ]\n",
      " [0.28143713 0.0228013  0.        ]]\n",
      "Average Cohen's Kappa (initial instruction): 0.08371159928800914\n",
      "\n",
      "\n",
      "Cohen's Kappa Matrix (GPT4 instruction):\n",
      "[[0.         0.02061856 0.07692308]\n",
      " [0.02061856 0.         0.01162791]\n",
      " [0.07692308 0.01162791 0.        ]]\n",
      "Average Cohen's Kappa (GPT4 instruction): 0.024259897911300406\n"
     ]
    }
   ],
   "source": [
    "from sklearn.metrics import cohen_kappa_score\n",
    "import numpy as np\n",
    "\n",
    "\n",
    "annotator_scores = [\n",
    "    df_initial[\"eval\"],\n",
    "    df_initial[\"human 1 eval\"],\n",
    "    df_initial[\"human 2 eval\"]\n",
    "]\n",
    "kappa_matrix = np.zeros((3, 3))\n",
    "\n",
    "for i in range(3):\n",
    "    for j in range(i + 1, 3):\n",
    "        kappa = cohen_kappa_score([annotator_scores[i][q] for q in range(20)],\n",
    "                                  [annotator_scores[j][q] for q in range(20)])\n",
    "        kappa_matrix[i][j] = kappa\n",
    "        kappa_matrix[j][i] = kappa\n",
    "print(\"Cohen's Kappa Matrix (initial instruction):\")\n",
    "print(kappa_matrix)\n",
    "average_kappa = np.mean(kappa_matrix)\n",
    "print(f\"Average Cohen's Kappa (initial instruction): {average_kappa}\")\n",
    "\n",
    "\n",
    "annotator_scores = [\n",
    "    df_best[\"eval\"],\n",
    "    df_best[\"human 1 eval\"],\n",
    "    df_best[\"human 2 eval\"]\n",
    "]\n",
    "kappa_matrix = np.zeros((3, 3))\n",
    "\n",
    "for i in range(3):\n",
    "    for j in range(i + 1, 3):\n",
    "        kappa = cohen_kappa_score([int(annotator_scores[i][q]) for q in range(20)],\n",
    "                                  [int(annotator_scores[j][q]) for q in range(20)])\n",
    "        kappa_matrix[i][j] = kappa\n",
    "        kappa_matrix[j][i] = kappa\n",
    "print(\"\\n\\nCohen's Kappa Matrix (GPT4 instruction):\")\n",
    "print(kappa_matrix)\n",
    "average_kappa = np.mean(kappa_matrix)\n",
    "print(f\"Average Cohen's Kappa (GPT4 instruction): {average_kappa}\")"
   ]
  }
 ],
 "metadata": {
  "kernelspec": {
   "display_name": "NLG",
   "language": "python",
   "name": "python3"
  },
  "language_info": {
   "codemirror_mode": {
    "name": "ipython",
    "version": 3
   },
   "file_extension": ".py",
   "mimetype": "text/x-python",
   "name": "python",
   "nbconvert_exporter": "python",
   "pygments_lexer": "ipython3",
   "version": "3.10.10"
  },
  "orig_nbformat": 4
 },
 "nbformat": 4,
 "nbformat_minor": 2
}

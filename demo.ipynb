{
 "cells": [
  {
   "cell_type": "code",
   "execution_count": 11,
   "metadata": {},
   "outputs": [],
   "source": [
    "import json\n",
    "\n",
    "def preprocess_webnlg(path):\n",
    "    with open(path,\"r\") as file:\n",
    "        data=file.read()\n",
    "    obj=json.loads(data)\n",
    "    entries=obj[\"entries\"]\n",
    "    output_list=list()\n",
    "    for i in range(128):#len(entries)):\n",
    "        for lex in list(map(lambda el: el[\"lex\"],entries[i][str((i+1))][\"lexicalisations\"])):\n",
    "            output_list.append({\n",
    "                \"instruction\": \"The input is a list of triplets. Each triple has a subject, a predicate and an object. Try to produce a sentence out of it.\",\n",
    "                \"input\":entries[i][str((i+1))][\"modifiedtripleset\"],\n",
    "                \"original\":\"\",\n",
    "                \"output\": lex\n",
    "            })\n",
    "    with open(path[:-5]+\"_cleaned.json\", \"w\") as file:\n",
    "        json.dump([ob for ob in output_list], file)"
   ]
  },
  {
   "cell_type": "code",
   "execution_count": 12,
   "metadata": {},
   "outputs": [],
   "source": [
    "dataset_base_path=\"webnlg-dataset-master/\"\n",
    "dataset_version_path=\"release_v2.1/json/\"\n",
    "preprocess_webnlg(dataset_base_path+dataset_version_path+\"webnlg_release_v2.1_train.json\")\n",
    "preprocess_webnlg(dataset_base_path+dataset_version_path+\"webnlg_release_v2.1_dev.json\")\n",
    "preprocess_webnlg(dataset_base_path+dataset_version_path+\"webnlg_release_v2.1_test.json\")\n"
   ]
  },
  {
   "cell_type": "code",
   "execution_count": 13,
   "metadata": {},
   "outputs": [
    {
     "name": "stdout",
     "output_type": "stream",
     "text": [
      "Downloading and preparing dataset json/default to /home/bagnol/.cache/huggingface/datasets/json/default-348d710258f8e114/0.0.0/e347ab1c932092252e717ff3f949105a4dd28b27e842dd53157d2f72e276c2e4...\n"
     ]
    },
    {
     "name": "stderr",
     "output_type": "stream",
     "text": [
      "Downloading data files: 100%|██████████| 1/1 [00:00<00:00, 1559.80it/s]\n",
      "Extracting data files: 100%|██████████| 1/1 [00:00<00:00, 701.62it/s]\n",
      "                                                        \r"
     ]
    },
    {
     "name": "stdout",
     "output_type": "stream",
     "text": [
      "Dataset json downloaded and prepared to /home/bagnol/.cache/huggingface/datasets/json/default-348d710258f8e114/0.0.0/e347ab1c932092252e717ff3f949105a4dd28b27e842dd53157d2f72e276c2e4. Subsequent calls will reuse this data.\n"
     ]
    },
    {
     "name": "stderr",
     "output_type": "stream",
     "text": [
      "100%|██████████| 1/1 [00:00<00:00, 631.29it/s]\n"
     ]
    }
   ],
   "source": [
    "from datasets import load_dataset\n",
    "a=load_dataset(\"json\",data_files=\"./webnlg-dataset-master/release_v2.1/json/webnlg_release_v2.1_dev_cleaned.json\")"
   ]
  },
  {
   "cell_type": "code",
   "execution_count": 14,
   "metadata": {},
   "outputs": [],
   "source": [
    "a=a[\"train\"]"
   ]
  }
 ],
 "metadata": {
  "kernelspec": {
   "display_name": "NLG",
   "language": "python",
   "name": "python3"
  },
  "language_info": {
   "codemirror_mode": {
    "name": "ipython",
    "version": 3
   },
   "file_extension": ".py",
   "mimetype": "text/x-python",
   "name": "python",
   "nbconvert_exporter": "python",
   "pygments_lexer": "ipython3",
   "version": "3.10.10"
  },
  "orig_nbformat": 4
 },
 "nbformat": 4,
 "nbformat_minor": 2
}

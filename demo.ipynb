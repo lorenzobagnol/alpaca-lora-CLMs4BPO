{
 "cells": [
  {
   "cell_type": "code",
   "execution_count": 14,
   "metadata": {},
   "outputs": [],
   "source": [
    "import json\n",
    "\n",
    "def preprocess_webnlg(path):\n",
    "    with open(path,\"r\") as file:\n",
    "        data=file.read()\n",
    "    obj=json.loads(data)\n",
    "    entries=obj[\"entries\"]\n",
    "    output_list=list()\n",
    "    for i in range(10):#len(entries)):\n",
    "        for lex in list(map(lambda el: el[\"lex\"],entries[i][str((i+1))][\"lexicalisations\"])):\n",
    "            print(entries[i][str((i+1))])\n",
    "            output_list.append({\n",
    "                \"instruction\": \"The input is a list of triplets. Each triple has a subject, a predicate and an object. Try to produce a sentence out of it.\",\n",
    "                \"modified\":entries[i][str((i+1))][\"modifiedtripleset\"],\n",
    "                \"original\":\"\",\n",
    "                \"output\": lex\n",
    "            })\n",
    "    return output_list"
   ]
  },
  {
   "cell_type": "code",
   "execution_count": null,
   "metadata": {},
   "outputs": [],
   "source": [
    "dataset_base_path=\"webnlg-dataset-master/\"\n",
    "dataset_version_path=\"release_v2.1/json/\"\n",
    "train=preprocess_webnlg(dataset_base_path+dataset_version_path+\"webnlg_release_v2.1_train.json\")\n",
    "val=preprocess_webnlg(dataset_base_path+dataset_version_path+\"webnlg_release_v2.1_dev.json\")\n",
    "test=preprocess_webnlg(dataset_base_path+dataset_version_path+\"webnlg_release_v2.1_test.json\")\n",
    "print(len(train))\n",
    "print(len(val))\n",
    "print(len(test))"
   ]
  },
  {
   "cell_type": "code",
   "execution_count": 8,
   "metadata": {},
   "outputs": [
    {
     "data": {
      "text/plain": [
       "{'instruction': 'The input is a list of triplets. Each triple has a subject, a predicate and an object. Try to produce a sentence out of it.',\n",
       " 'input': [{'object': 'Daniel_Gould_Fowle',\n",
       "   'property': 'successor',\n",
       "   'subject': 'Alfred_Moore_Scales'},\n",
       "  {'object': 'Princeton_University',\n",
       "   'property': 'almaMater',\n",
       "   'subject': 'Daniel_Gould_Fowle'}],\n",
       " 'output': 'Alfred Moore Scales was succeeded by Daniel Gould Fowle, his alma mater is Princeton University.'}"
      ]
     },
     "execution_count": 8,
     "metadata": {},
     "output_type": "execute_result"
    }
   ],
   "source": [
    "test[1603]"
   ]
  }
 ],
 "metadata": {
  "kernelspec": {
   "display_name": "NLG",
   "language": "python",
   "name": "python3"
  },
  "language_info": {
   "codemirror_mode": {
    "name": "ipython",
    "version": 3
   },
   "file_extension": ".py",
   "mimetype": "text/x-python",
   "name": "python",
   "nbconvert_exporter": "python",
   "pygments_lexer": "ipython3",
   "version": "3.10.10"
  },
  "orig_nbformat": 4
 },
 "nbformat": 4,
 "nbformat_minor": 2
}
